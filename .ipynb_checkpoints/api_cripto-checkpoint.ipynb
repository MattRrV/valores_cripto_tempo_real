{
 "cells": [
  {
   "cell_type": "code",
   "execution_count": 3,
   "id": "b32a536b",
   "metadata": {},
   "outputs": [],
   "source": [
    "# import bibliotecas\n",
    "from requests import Request, Session\n",
    "import json\n",
    "import pprint\n",
    "import pandas as pd\n",
    "from IPython.display import display"
   ]
  },
  {
   "cell_type": "code",
   "execution_count": 4,
   "id": "ea998834",
   "metadata": {},
   "outputs": [],
   "source": [
    "# API\n",
    "pd.set_option(\"display.max_columns\", None)\n",
    "url = 'https://pro-api.coinmarketcap.com/v1/cryptocurrency/quotes/latest'\n",
    "\n",
    "headers = {\n",
    "    'Accepts': 'application/json',\n",
    "    'X-CMC_PRO_API_KEY': 'f1702e3a-85ec-40de-8c9b-885b7542f01d'\n",
    "}\n",
    "    \n",
    "session = Session()\n",
    "session.headers.update(headers)"
   ]
  },
  {
   "cell_type": "code",
   "execution_count": 68,
   "id": "1e4048f3",
   "metadata": {},
   "outputs": [
    {
     "data": {
      "text/plain": [
       "{'status': {'timestamp': '2022-03-29T23:02:15.599Z',\n",
       "  'error_code': 0,\n",
       "  'error_message': None,\n",
       "  'elapsed': 34,\n",
       "  'credit_count': 1,\n",
       "  'notice': None},\n",
       " 'data': {'1': {'id': 1,\n",
       "   'name': 'Bitcoin',\n",
       "   'symbol': 'BTC',\n",
       "   'slug': 'bitcoin',\n",
       "   'num_market_pairs': 9285,\n",
       "   'date_added': '2013-04-28T00:00:00.000Z',\n",
       "   'tags': ['mineable',\n",
       "    'pow',\n",
       "    'sha-256',\n",
       "    'store-of-value',\n",
       "    'state-channel',\n",
       "    'coinbase-ventures-portfolio',\n",
       "    'three-arrows-capital-portfolio',\n",
       "    'polychain-capital-portfolio',\n",
       "    'binance-labs-portfolio',\n",
       "    'blockchain-capital-portfolio',\n",
       "    'boostvc-portfolio',\n",
       "    'cms-holdings-portfolio',\n",
       "    'dcg-portfolio',\n",
       "    'dragonfly-capital-portfolio',\n",
       "    'electric-capital-portfolio',\n",
       "    'fabric-ventures-portfolio',\n",
       "    'framework-ventures-portfolio',\n",
       "    'galaxy-digital-portfolio',\n",
       "    'huobi-capital-portfolio',\n",
       "    'alameda-research-portfolio',\n",
       "    'a16z-portfolio',\n",
       "    '1confirmation-portfolio',\n",
       "    'winklevoss-capital-portfolio',\n",
       "    'usv-portfolio',\n",
       "    'placeholder-ventures-portfolio',\n",
       "    'pantera-capital-portfolio',\n",
       "    'multicoin-capital-portfolio',\n",
       "    'paradigm-portfolio'],\n",
       "   'max_supply': 21000000,\n",
       "   'circulating_supply': 18997562,\n",
       "   'total_supply': 18997562,\n",
       "   'is_active': 1,\n",
       "   'platform': None,\n",
       "   'cmc_rank': 1,\n",
       "   'is_fiat': 0,\n",
       "   'self_reported_circulating_supply': None,\n",
       "   'self_reported_market_cap': None,\n",
       "   'last_updated': '2022-03-29T23:01:00.000Z',\n",
       "   'quote': {'BRL': {'price': 225250.46487187973,\n",
       "     'volume_24h': 153033719508.04892,\n",
       "     'volume_change_24h': -10.4928,\n",
       "     'percent_change_1h': 0.13321341,\n",
       "     'percent_change_24h': 1.46221615,\n",
       "     'percent_change_7d': 8.94912457,\n",
       "     'percent_change_30d': 25.21749411,\n",
       "     'percent_change_60d': 25.61801867,\n",
       "     'percent_change_90d': 0.03129837,\n",
       "     'market_cap': 4279209671932.3574,\n",
       "     'market_cap_dominance': 42.173,\n",
       "     'fully_diluted_market_cap': 4730259762309.469,\n",
       "     'last_updated': '2022-03-29T23:02:12.000Z'}}}}}"
      ]
     },
     "execution_count": 68,
     "metadata": {},
     "output_type": "execute_result"
    }
   ],
   "source": [
    "# Bitcoin Real\n",
    "bitcoin_real = {\n",
    "    'slug': 'bitcoin',\n",
    "    'convert':'BRL',\n",
    "}\n",
    "\n",
    "response_btc_real = session.get(url, params=bitcoin_real)\n",
    "btc_real = json.loads(response_btc_real.text)\n",
    "btc_real\n",
    "\n",
    "#esta_ativa = btc_real['data']['1']['is_active']\n",
    "#sigla_moeda = btc_real['data']['1']['symbol']\n",
    "#nome_moeda = btc_real['data']['1']['name']\n",
    "#nome_moeda\n",
    "#btc_preco_real = btc_real['data']['1']['quote']['BRL']['price']\n",
    "# print(f'Preço Bitcoin Real: {btc_preco_real}')"
   ]
  },
  {
   "cell_type": "code",
   "execution_count": 6,
   "id": "421a31e5",
   "metadata": {},
   "outputs": [
    {
     "data": {
      "text/plain": [
       "(1, 'BTC', 'Bitcoin', 224975.2115799431)"
      ]
     },
     "execution_count": 6,
     "metadata": {},
     "output_type": "execute_result"
    }
   ],
   "source": [
    "# Bitcoin real\n",
    "esta_ativa, sigla_moeda, nome_moeda, btc_preco_real"
   ]
  },
  {
   "cell_type": "code",
   "execution_count": 7,
   "id": "952dfce1",
   "metadata": {},
   "outputs": [],
   "source": [
    "# Ethereum Real\n",
    "\n",
    "def ethereum():\n",
    "    ethereum_real = {\n",
    "        'slug':'ethereum',\n",
    "        'convert':'BRL',\n",
    "        }\n",
    "    response_eth_real = session.get(url, params=ethereum_real)\n",
    "    eth_real = json.loads(response_eth_real.text)\n",
    "    esta_ativa = eth_real['data']['1027']['is_active']\n",
    "    sigla_moeda = eth_real['data']['1027']['symbol']\n",
    "    nome_moeda = eth_real['data']['1027']['name']\n",
    "    cotacao_eth = eth_real['data']['1027']['quote']['BRL']['price']\n",
    "   \n",
    "    return esta_ativa, sigla_moeda, nome_moeda, cotacao_eth"
   ]
  },
  {
   "cell_type": "code",
   "execution_count": 8,
   "id": "f2524f20",
   "metadata": {},
   "outputs": [
    {
     "data": {
      "text/plain": [
       "(1, 'ETH', 'Ethereum', 16071.231926137263)"
      ]
     },
     "execution_count": 8,
     "metadata": {},
     "output_type": "execute_result"
    }
   ],
   "source": [
    "ethereum()"
   ]
  },
  {
   "cell_type": "code",
   "execution_count": 155,
   "id": "ccb2ee20",
   "metadata": {},
   "outputs": [],
   "source": [
    "# função que pega as informações da moeda\n",
    "def tipo_moeda(lista_moedas):\n",
    "    for i in lista_moedas:\n",
    "        moeda = {\n",
    "            'slug': i,\n",
    "            'convert': 'BRL'\n",
    "            }\n",
    "            \n",
    "        # fazendo a requisição da API\n",
    "        response_moeda_real = session.get(url, params=moeda)\n",
    "        moeda_real = json.loads(response_moeda_real.text)\n",
    "    \n",
    "        # tratando dados\n",
    "        id_moeda = moeda_real['data']\n",
    "        id_moeda = list(id_moeda.keys())\n",
    "        id_moeda = str(id_moeda)\n",
    "        id_moeda = id_moeda.strip(\"[]'\")\n",
    "        #print(id_moeda)\n",
    "\n",
    "        # selecionando o que a função irá retornar\n",
    "        esta_ativa                  = moeda_real['data'][id_moeda]['is_active']\n",
    "        sigla_moeda                 = moeda_real['data'][id_moeda]['symbol']\n",
    "        nome_moeda                  = moeda_real['data'][id_moeda]['name']\n",
    "        cotacao_moeda               = moeda_real['data'][id_moeda]['quote']['BRL']['price']\n",
    "        cap_mercado                 = moeda_real['data'][id_moeda]['quote']['BRL']['market_cap']\n",
    "        fornecimento_circulante     = moeda_real['data'][id_moeda]['total_supply']\n",
    "        variacao_porcentagem_1h     = moeda_real['data'][id_moeda]['quote']['BRL']['percent_change_1h']\n",
    "        variacao_porcentagem_24h    = moeda_real['data'][id_moeda]['quote']['BRL']['percent_change_24h']\n",
    "        variacao_porcentagem_7_dias = moeda_real['data'][id_moeda]['quote']['BRL']['percent_change_7d']\n",
    "        print(nome_moeda)\n",
    "        print (esta_ativa, sigla_moeda, nome_moeda, cotacao_moeda, cap_mercado, fornecimento_circulante, variacao_porcentagem_1h,\n",
    "            variacao_porcentagem_24h, variacao_porcentagem_7_dias)\n",
    "        \n",
    "        \n",
    "    \n"
   ]
  },
  {
   "cell_type": "code",
   "execution_count": 156,
   "id": "c4e30ade",
   "metadata": {},
   "outputs": [
    {
     "name": "stdout",
     "output_type": "stream",
     "text": [
      "Bitcoin\n",
      "1 BTC Bitcoin 225749.82703989826 4288696335679.7437 18997562 0.55208117 2.301374 9.47965659\n",
      "Ethereum\n",
      "1 ETH Ethereum 16158.733267871254 1941707700435.7876 120164598.8115 0.90806061 3.21674502 11.60680297\n",
      "Tether\n",
      "1 USDT Tether 4.760404037560938 388162088500.6354 84505585147.17514 0.01028465 1.86875572 -2.10002641\n",
      "BNB\n",
      "1 BNB BNB 2066.1823568830173 341161338176.5898 165116760.89 0.59649566 2.39433676 5.04201925\n",
      "XRP\n",
      "1 XRP XRP 4.077344246816563 196208365652.63425 99989656524 0.80436135 -0.30677351 0.23887169\n",
      "Cardano\n",
      "1 ADA Cardano 5.649667012690981 190541102595.92584 34258602060.048 1.01103983 2.16796979 20.01035222\n",
      "Terra\n",
      "1 LUNA Terra 513.6077038595784 182569090448.3835 752529609.781111 1.03467041 12.52475215 13.73687509\n",
      "Solana\n",
      "1 SOL Solana 529.1392426079879 172029146244.94943 511616946.142289 1.14183413 5.80803686 19.87682289\n",
      "Avalanche\n",
      "1 AVAX Avalanche 439.56525947098953 117485923471.11974 395891289.9134107 1.5625781 3.38735828 7.22303364\n",
      "Dogecoin\n",
      "1 DOGE Dogecoin 0.68711168498757 91159632406.68896 132670764299.89409 1.04264527 1.53581171 15.4044496\n"
     ]
    }
   ],
   "source": [
    "lista_moedas = ['bitcoin', 'ethereum', 'tether', 'bnb', 'xrp', 'cardano', 'terra', 'solana', 'avalanche', 'dogecoin']\n",
    "tipo_moeda(lista_moedas)"
   ]
  },
  {
   "cell_type": "code",
   "execution_count": null,
   "id": "dfa44b4e",
   "metadata": {},
   "outputs": [],
   "source": []
  },
  {
   "cell_type": "code",
   "execution_count": null,
   "id": "4307d168",
   "metadata": {},
   "outputs": [],
   "source": []
  },
  {
   "cell_type": "code",
   "execution_count": null,
   "id": "1313fd6f",
   "metadata": {},
   "outputs": [],
   "source": []
  },
  {
   "cell_type": "code",
   "execution_count": null,
   "id": "292df0be",
   "metadata": {},
   "outputs": [],
   "source": []
  },
  {
   "cell_type": "code",
   "execution_count": null,
   "id": "36b83494",
   "metadata": {},
   "outputs": [],
   "source": []
  },
  {
   "cell_type": "code",
   "execution_count": null,
   "id": "63f3c1e6",
   "metadata": {},
   "outputs": [],
   "source": []
  },
  {
   "cell_type": "code",
   "execution_count": null,
   "id": "acbe7e0a",
   "metadata": {},
   "outputs": [],
   "source": []
  },
  {
   "cell_type": "code",
   "execution_count": null,
   "id": "63858915",
   "metadata": {},
   "outputs": [],
   "source": []
  },
  {
   "cell_type": "code",
   "execution_count": null,
   "id": "97d7c5eb",
   "metadata": {},
   "outputs": [],
   "source": []
  }
 ],
 "metadata": {
  "kernelspec": {
   "display_name": "Python 3 (ipykernel)",
   "language": "python",
   "name": "python3"
  },
  "language_info": {
   "codemirror_mode": {
    "name": "ipython",
    "version": 3
   },
   "file_extension": ".py",
   "mimetype": "text/x-python",
   "name": "python",
   "nbconvert_exporter": "python",
   "pygments_lexer": "ipython3",
   "version": "3.9.7"
  }
 },
 "nbformat": 4,
 "nbformat_minor": 5
}
