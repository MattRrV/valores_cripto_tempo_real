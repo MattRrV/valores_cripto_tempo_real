{
 "cells": [
  {
   "cell_type": "code",
   "execution_count": 102,
   "id": "b32a536b",
   "metadata": {},
   "outputs": [],
   "source": [
    "# import bibliotecas\n",
    "from requests import Request, Session\n",
    "import json\n",
    "import pprint\n",
    "import pandas as pd\n",
    "from IPython.display import display"
   ]
  },
  {
   "cell_type": "code",
   "execution_count": 103,
   "id": "ea998834",
   "metadata": {},
   "outputs": [],
   "source": [
    "# API\n",
    "pd.set_option(\"display.max_columns\", None)\n",
    "url = 'https://pro-api.coinmarketcap.com/v1/cryptocurrency/quotes/latest'\n",
    "\n",
    "headers = {\n",
    "    'Accepts': 'application/json',\n",
    "    'X-CMC_PRO_API_KEY': 'f1702e3a-85ec-40de-8c9b-885b7542f01d'\n",
    "}\n",
    "    \n",
    "session = Session()\n",
    "session.headers.update(headers)"
   ]
  },
  {
   "cell_type": "code",
   "execution_count": 104,
   "id": "1e4048f3",
   "metadata": {},
   "outputs": [],
   "source": [
    "# Bitcoin Real\n",
    "bitcoin_real = {\n",
    "    'slug':'bitcoin',\n",
    "    'convert':'BRL',\n",
    "}\n",
    "\n",
    "response_btc_real = session.get(url, params=bitcoin_real)\n",
    "btc_real = json.loads(response_btc_real.text)\n",
    "\n",
    "\n",
    "esta_ativa = btc_real['data']['1']['is_active']\n",
    "sigla_moeda = btc_real['data']['1']['symbol']\n",
    "nome_moeda = btc_real['data']['1']['name']\n",
    "#nome_moeda\n",
    "btc_preco_real = btc_real['data']['1']['quote']['BRL']['price']\n",
    "# print(f'Preço Bitcoin Real: {btc_preco_real}')"
   ]
  },
  {
   "cell_type": "code",
   "execution_count": 157,
   "id": "421a31e5",
   "metadata": {},
   "outputs": [
    {
     "data": {
      "text/plain": [
       "(1, 'BTC', 'Bitcoin', 226171.9191406489)"
      ]
     },
     "execution_count": 157,
     "metadata": {},
     "output_type": "execute_result"
    }
   ],
   "source": [
    "# Bitcoin real\n",
    "esta_ativa, sigla_moeda, nome_moeda, btc_preco_real"
   ]
  },
  {
   "cell_type": "code",
   "execution_count": 153,
   "id": "952dfce1",
   "metadata": {},
   "outputs": [],
   "source": [
    "# Ethereum Real\n",
    "\n",
    "def ethereum():\n",
    "    ethereum_real = {\n",
    "        'slug':'ethereum',\n",
    "        'convert':'BRL',\n",
    "        }\n",
    "    response_eth_real = session.get(url, params=ethereum_real)\n",
    "    eth_real = json.loads(response_eth_real.text)\n",
    "    esta_ativa = eth_real['data']['1027']['is_active']\n",
    "    sigla_moeda = eth_real['data']['1027']['symbol']\n",
    "    nome_moeda = eth_real['data']['1027']['name']\n",
    "    cotacao_eth = eth_real['data']['1027']['quote']['BRL']['price']\n",
    "   \n",
    "    return esta_ativa, sigla_moeda, nome_moeda, cotacao_eth"
   ]
  },
  {
   "cell_type": "code",
   "execution_count": 154,
   "id": "f2524f20",
   "metadata": {},
   "outputs": [
    {
     "data": {
      "text/plain": [
       "(1, 'ETH', 'Ethereum', 16383.830011296792)"
      ]
     },
     "execution_count": 154,
     "metadata": {},
     "output_type": "execute_result"
    }
   ],
   "source": [
    "ethereum()"
   ]
  },
  {
   "cell_type": "code",
   "execution_count": 366,
   "id": "ccb2ee20",
   "metadata": {},
   "outputs": [],
   "source": [
    "def dogecoin():\n",
    "    \n",
    "    moeda = {\n",
    "        'slug': 'dogecoin',\n",
    "        'convert': 'BRL'\n",
    "    }\n",
    "    response_moeda_real = session.get(url, params=moeda)\n",
    "    moeda_real = json.loads(response_moeda_real.text)\n",
    "    id_moeda = moeda_real['data']\n",
    "    id_moeda = list(id_moeda.keys())\n",
    "    id_moeda = str(id_moeda)\n",
    "    id_moeda = id_moeda.strip(\"[]'\")\n",
    "    #print(id_moeda)\n",
    "    \n",
    "    esta_ativa = moeda_real['data'][id_moeda]['is_active']\n",
    "    sigla_moeda = moeda_real['data'][id_moeda]['is_active']\n",
    "    print(esta_ativa)\n",
    "    return moeda_real\n"
   ]
  },
  {
   "cell_type": "code",
   "execution_count": null,
   "id": "c4e30ade",
   "metadata": {},
   "outputs": [],
   "source": []
  },
  {
   "cell_type": "code",
   "execution_count": 365,
   "id": "dfa44b4e",
   "metadata": {},
   "outputs": [
    {
     "name": "stdout",
     "output_type": "stream",
     "text": [
      "74\n",
      "1\n"
     ]
    },
    {
     "data": {
      "text/plain": [
       "{'status': {'timestamp': '2022-03-29T17:33:14.957Z',\n",
       "  'error_code': 0,\n",
       "  'error_message': None,\n",
       "  'elapsed': 36,\n",
       "  'credit_count': 1,\n",
       "  'notice': None},\n",
       " 'data': {'74': {'id': 74,\n",
       "   'name': 'Dogecoin',\n",
       "   'symbol': 'DOGE',\n",
       "   'slug': 'dogecoin',\n",
       "   'num_market_pairs': 460,\n",
       "   'date_added': '2013-12-15T00:00:00.000Z',\n",
       "   'tags': ['mineable',\n",
       "    'pow',\n",
       "    'scrypt',\n",
       "    'medium-of-exchange',\n",
       "    'memes',\n",
       "    'payments',\n",
       "    'doggone-doggerel',\n",
       "    'bnb-chain'],\n",
       "   'max_supply': None,\n",
       "   'circulating_supply': 132670764299.89409,\n",
       "   'total_supply': 132670764299.89409,\n",
       "   'is_active': 1,\n",
       "   'platform': None,\n",
       "   'cmc_rank': 12,\n",
       "   'is_fiat': 0,\n",
       "   'self_reported_circulating_supply': None,\n",
       "   'self_reported_market_cap': None,\n",
       "   'last_updated': '2022-03-29T17:32:00.000Z',\n",
       "   'quote': {'BRL': {'price': 0.6864393020949557,\n",
       "     'volume_24h': 5310824226.897451,\n",
       "     'volume_change_24h': -24.882,\n",
       "     'percent_change_1h': 0.36996812,\n",
       "     'percent_change_24h': -2.82000123,\n",
       "     'percent_change_7d': 13.90946819,\n",
       "     'percent_change_30d': 13.14371653,\n",
       "     'percent_change_60d': 2.16207513,\n",
       "     'percent_change_90d': -16.08571216,\n",
       "     'market_cap': 91070426854.42368,\n",
       "     'market_cap_dominance': 0.8944,\n",
       "     'fully_diluted_market_cap': 91070426854.41713,\n",
       "     'last_updated': '2022-03-29T17:32:12.000Z'}}}}}"
      ]
     },
     "execution_count": 365,
     "metadata": {},
     "output_type": "execute_result"
    }
   ],
   "source": [
    "dogecoin()"
   ]
  },
  {
   "cell_type": "code",
   "execution_count": null,
   "id": "4307d168",
   "metadata": {},
   "outputs": [],
   "source": []
  },
  {
   "cell_type": "code",
   "execution_count": null,
   "id": "1313fd6f",
   "metadata": {},
   "outputs": [],
   "source": []
  },
  {
   "cell_type": "code",
   "execution_count": null,
   "id": "292df0be",
   "metadata": {},
   "outputs": [],
   "source": []
  },
  {
   "cell_type": "code",
   "execution_count": null,
   "id": "36b83494",
   "metadata": {},
   "outputs": [],
   "source": []
  },
  {
   "cell_type": "code",
   "execution_count": null,
   "id": "63f3c1e6",
   "metadata": {},
   "outputs": [],
   "source": []
  },
  {
   "cell_type": "code",
   "execution_count": null,
   "id": "acbe7e0a",
   "metadata": {},
   "outputs": [],
   "source": []
  },
  {
   "cell_type": "code",
   "execution_count": null,
   "id": "63858915",
   "metadata": {},
   "outputs": [],
   "source": []
  },
  {
   "cell_type": "code",
   "execution_count": null,
   "id": "97d7c5eb",
   "metadata": {},
   "outputs": [],
   "source": []
  }
 ],
 "metadata": {
  "kernelspec": {
   "display_name": "Python 3 (ipykernel)",
   "language": "python",
   "name": "python3"
  },
  "language_info": {
   "codemirror_mode": {
    "name": "ipython",
    "version": 3
   },
   "file_extension": ".py",
   "mimetype": "text/x-python",
   "name": "python",
   "nbconvert_exporter": "python",
   "pygments_lexer": "ipython3",
   "version": "3.9.7"
  }
 },
 "nbformat": 4,
 "nbformat_minor": 5
}
